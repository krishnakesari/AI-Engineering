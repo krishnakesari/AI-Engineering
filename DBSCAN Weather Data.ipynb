{
 "cells": [
  {
   "cell_type": "code",
   "execution_count": 1,
   "metadata": {
    "collapsed": true
   },
   "outputs": [
    {
     "data": {
      "text/plain": "                 Stn_Name     Lat     Long Prov   Tm  DwTm    D    Tx  DwTx  \\\n0               CHEMAINUS  48.935 -123.742   BC  8.2   0.0  NaN  13.5   0.0   \n1  COWICHAN LAKE FORESTRY  48.824 -124.133   BC  7.0   0.0  3.0  15.0   0.0   \n2           LAKE COWICHAN  48.829 -124.052   BC  6.8  13.0  2.8  16.0   9.0   \n3        DISCOVERY ISLAND  48.425 -123.226   BC  NaN   NaN  NaN  12.5   0.0   \n4     DUNCAN KELVIN CREEK  48.735 -123.728   BC  7.7   2.0  3.4  14.5   2.0   \n\n    Tn  ...  DwP    P%N  S_G    Pd  BS  DwBS  BS%    HDD  CDD   Stn_No  \n0  1.0  ...  0.0    NaN  0.0  12.0 NaN   NaN  NaN  273.3  0.0  1011500  \n1 -3.0  ...  0.0  104.0  0.0  12.0 NaN   NaN  NaN  307.0  0.0  1012040  \n2 -2.5  ...  9.0    NaN  NaN  11.0 NaN   NaN  NaN  168.1  0.0  1012055  \n3  NaN  ...  NaN    NaN  NaN   NaN NaN   NaN  NaN    NaN  NaN  1012475  \n4 -1.0  ...  2.0    NaN  NaN  11.0 NaN   NaN  NaN  267.7  0.0  1012573  \n\n[5 rows x 25 columns]",
      "text/html": "<div>\n<style scoped>\n    .dataframe tbody tr th:only-of-type {\n        vertical-align: middle;\n    }\n\n    .dataframe tbody tr th {\n        vertical-align: top;\n    }\n\n    .dataframe thead th {\n        text-align: right;\n    }\n</style>\n<table border=\"1\" class=\"dataframe\">\n  <thead>\n    <tr style=\"text-align: right;\">\n      <th></th>\n      <th>Stn_Name</th>\n      <th>Lat</th>\n      <th>Long</th>\n      <th>Prov</th>\n      <th>Tm</th>\n      <th>DwTm</th>\n      <th>D</th>\n      <th>Tx</th>\n      <th>DwTx</th>\n      <th>Tn</th>\n      <th>...</th>\n      <th>DwP</th>\n      <th>P%N</th>\n      <th>S_G</th>\n      <th>Pd</th>\n      <th>BS</th>\n      <th>DwBS</th>\n      <th>BS%</th>\n      <th>HDD</th>\n      <th>CDD</th>\n      <th>Stn_No</th>\n    </tr>\n  </thead>\n  <tbody>\n    <tr>\n      <th>0</th>\n      <td>CHEMAINUS</td>\n      <td>48.935</td>\n      <td>-123.742</td>\n      <td>BC</td>\n      <td>8.2</td>\n      <td>0.0</td>\n      <td>NaN</td>\n      <td>13.5</td>\n      <td>0.0</td>\n      <td>1.0</td>\n      <td>...</td>\n      <td>0.0</td>\n      <td>NaN</td>\n      <td>0.0</td>\n      <td>12.0</td>\n      <td>NaN</td>\n      <td>NaN</td>\n      <td>NaN</td>\n      <td>273.3</td>\n      <td>0.0</td>\n      <td>1011500</td>\n    </tr>\n    <tr>\n      <th>1</th>\n      <td>COWICHAN LAKE FORESTRY</td>\n      <td>48.824</td>\n      <td>-124.133</td>\n      <td>BC</td>\n      <td>7.0</td>\n      <td>0.0</td>\n      <td>3.0</td>\n      <td>15.0</td>\n      <td>0.0</td>\n      <td>-3.0</td>\n      <td>...</td>\n      <td>0.0</td>\n      <td>104.0</td>\n      <td>0.0</td>\n      <td>12.0</td>\n      <td>NaN</td>\n      <td>NaN</td>\n      <td>NaN</td>\n      <td>307.0</td>\n      <td>0.0</td>\n      <td>1012040</td>\n    </tr>\n    <tr>\n      <th>2</th>\n      <td>LAKE COWICHAN</td>\n      <td>48.829</td>\n      <td>-124.052</td>\n      <td>BC</td>\n      <td>6.8</td>\n      <td>13.0</td>\n      <td>2.8</td>\n      <td>16.0</td>\n      <td>9.0</td>\n      <td>-2.5</td>\n      <td>...</td>\n      <td>9.0</td>\n      <td>NaN</td>\n      <td>NaN</td>\n      <td>11.0</td>\n      <td>NaN</td>\n      <td>NaN</td>\n      <td>NaN</td>\n      <td>168.1</td>\n      <td>0.0</td>\n      <td>1012055</td>\n    </tr>\n    <tr>\n      <th>3</th>\n      <td>DISCOVERY ISLAND</td>\n      <td>48.425</td>\n      <td>-123.226</td>\n      <td>BC</td>\n      <td>NaN</td>\n      <td>NaN</td>\n      <td>NaN</td>\n      <td>12.5</td>\n      <td>0.0</td>\n      <td>NaN</td>\n      <td>...</td>\n      <td>NaN</td>\n      <td>NaN</td>\n      <td>NaN</td>\n      <td>NaN</td>\n      <td>NaN</td>\n      <td>NaN</td>\n      <td>NaN</td>\n      <td>NaN</td>\n      <td>NaN</td>\n      <td>1012475</td>\n    </tr>\n    <tr>\n      <th>4</th>\n      <td>DUNCAN KELVIN CREEK</td>\n      <td>48.735</td>\n      <td>-123.728</td>\n      <td>BC</td>\n      <td>7.7</td>\n      <td>2.0</td>\n      <td>3.4</td>\n      <td>14.5</td>\n      <td>2.0</td>\n      <td>-1.0</td>\n      <td>...</td>\n      <td>2.0</td>\n      <td>NaN</td>\n      <td>NaN</td>\n      <td>11.0</td>\n      <td>NaN</td>\n      <td>NaN</td>\n      <td>NaN</td>\n      <td>267.7</td>\n      <td>0.0</td>\n      <td>1012573</td>\n    </tr>\n  </tbody>\n</table>\n<p>5 rows × 25 columns</p>\n</div>"
     },
     "execution_count": 1,
     "metadata": {},
     "output_type": "execute_result"
    }
   ],
   "source": [
    "import csv\n",
    "import pandas as pd\n",
    "import numpy as np\n",
    "\n",
    "# Load data\n",
    "pdf = pd.read_csv('Data/weather-stations20140101-20141231.csv')\n",
    "pdf.head(5)"
   ]
  },
  {
   "cell_type": "code",
   "execution_count": null,
   "outputs": [],
   "source": [
    "# Data Cleaning\n",
    "## Remove rows with null values\n",
    "pdf "
   ],
   "metadata": {
    "collapsed": false,
    "pycharm": {
     "name": "#%%\n"
    }
   }
  }
 ],
 "metadata": {
  "kernelspec": {
   "display_name": "Python 3",
   "language": "python",
   "name": "python3"
  },
  "language_info": {
   "codemirror_mode": {
    "name": "ipython",
    "version": 2
   },
   "file_extension": ".py",
   "mimetype": "text/x-python",
   "name": "python",
   "nbconvert_exporter": "python",
   "pygments_lexer": "ipython2",
   "version": "2.7.6"
  }
 },
 "nbformat": 4,
 "nbformat_minor": 0
}